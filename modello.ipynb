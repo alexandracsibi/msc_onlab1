{
 "cells": [
  {
   "cell_type": "code",
   "execution_count": 1,
   "metadata": {},
   "outputs": [],
   "source": [
    "import pandas as pd"
   ]
  },
  {
   "cell_type": "code",
   "execution_count": 6,
   "metadata": {},
   "outputs": [],
   "source": [
    "df_161 = pd.read_csv('/home/alexandra/Downloads/datasets/halal/Colorectal_161_Summarized.csv')\n",
    "df_201 = pd.read_csv('/home/alexandra/Downloads/datasets/halal/Colorectal_201_Summarized.csv')\n",
    "df_309 = pd.read_csv('/home/alexandra/Downloads/datasets/halal/Colorectal_309_Summarized.csv')\n",
    "df_213 = pd.read_csv('/home/alexandra/Downloads/datasets/halal/Esophagael_213_Summarized.csv')\n",
    "df_218 = pd.read_csv('/home/alexandra/Downloads/datasets/halal/Lung_218_Summarized.csv')\n",
    "df_261 = pd.read_csv('/home/alexandra/Downloads/datasets/halal/Lung_261_Summarized.csv')"
   ]
  },
  {
   "cell_type": "code",
   "execution_count": 4,
   "metadata": {},
   "outputs": [
    {
     "data": {
      "application/vnd.jupyter.widget-view+json": {
       "model_id": "a8f6f1d4e39a43d4aec1b793313cdf4e",
       "version_major": 2,
       "version_minor": 0
      },
      "text/plain": [
       "model.safetensors:   0%|          | 0.00/1.34G [00:00<?, ?B/s]"
      ]
     },
     "metadata": {},
     "output_type": "display_data"
    },
    {
     "name": "stderr",
     "output_type": "stream",
     "text": [
      "Some weights of the model checkpoint at bert-large-uncased-whole-word-masking-finetuned-squad were not used when initializing BertForQuestionAnswering: ['bert.pooler.dense.bias', 'bert.pooler.dense.weight']\n",
      "- This IS expected if you are initializing BertForQuestionAnswering from the checkpoint of a model trained on another task or with another architecture (e.g. initializing a BertForSequenceClassification model from a BertForPreTraining model).\n",
      "- This IS NOT expected if you are initializing BertForQuestionAnswering from the checkpoint of a model that you expect to be exactly identical (initializing a BertForSequenceClassification model from a BertForSequenceClassification model).\n"
     ]
    },
    {
     "data": {
      "application/vnd.jupyter.widget-view+json": {
       "model_id": "ef7da80596284ebe9e3590b7a4305168",
       "version_major": 2,
       "version_minor": 0
      },
      "text/plain": [
       "tokenizer_config.json:   0%|          | 0.00/48.0 [00:00<?, ?B/s]"
      ]
     },
     "metadata": {},
     "output_type": "display_data"
    },
    {
     "data": {
      "application/vnd.jupyter.widget-view+json": {
       "model_id": "b219c3026d5d4f389cd0986f69059091",
       "version_major": 2,
       "version_minor": 0
      },
      "text/plain": [
       "vocab.txt:   0%|          | 0.00/232k [00:00<?, ?B/s]"
      ]
     },
     "metadata": {},
     "output_type": "display_data"
    },
    {
     "data": {
      "application/vnd.jupyter.widget-view+json": {
       "model_id": "4e105968e1e3456eacea56047ad669b7",
       "version_major": 2,
       "version_minor": 0
      },
      "text/plain": [
       "tokenizer.json:   0%|          | 0.00/466k [00:00<?, ?B/s]"
      ]
     },
     "metadata": {},
     "output_type": "display_data"
    }
   ],
   "source": [
    "from transformers import pipeline\n",
    "\n",
    "# Load a pre-trained QA model\n",
    "qa_pipeline = pipeline(\"question-answering\", model=\"bert-large-uncased-whole-word-masking-finetuned-squad\")\n"
   ]
  },
  {
   "cell_type": "code",
   "execution_count": 8,
   "metadata": {},
   "outputs": [],
   "source": [
    "def general_sanity_check(description, linearized_info):\n",
    "    \"\"\"\n",
    "    Perform a general sanity check by querying the model to verify facts in the description.\n",
    "    \n",
    "    Args:\n",
    "        description (str): The generated natural language description of the data.\n",
    "        linearized_info (str): The linearized data as a reference for extracting expected values.\n",
    "    \n",
    "    Returns:\n",
    "        dict: A dictionary with each feature and a tuple indicating the presence and accuracy of the value.\n",
    "    \"\"\"\n",
    "    # Extract individual features and their values from the linearized info\n",
    "    feature_values = {item.split(':')[0].strip(): item.split(':')[1].strip() for item in linearized_info.split(',')}\n",
    "    results = {}\n",
    "    \n",
    "    for feature, value in feature_values.items():\n",
    "        # Construct the questions based on feature type\n",
    "        is_present_question = f\"Is {feature} mentioned in the description?\"\n",
    "        value_question = f\"What is the value of {feature}?\"\n",
    "\n",
    "        # Query for presence\n",
    "        presence_response = qa_pipeline({\n",
    "            'context': description,\n",
    "            'question': is_present_question\n",
    "        })\n",
    "        is_present = \"yes\" in presence_response['answer'].strip().lower()\n",
    "        \n",
    "        # Query for value accuracy if applicable\n",
    "        if is_present:\n",
    "            value_response = qa_pipeline({\n",
    "                'context': description,\n",
    "                'question': value_question\n",
    "            })\n",
    "            # Normalize the response for comparison\n",
    "            retrieved_value = value_response['answer'].strip().lower()\n",
    "            is_correct = (retrieved_value == value.lower())\n",
    "            results[feature] = (is_present, is_correct)\n",
    "        else:\n",
    "            results[feature] = (is_present, False)\n",
    "\n",
    "    return results\n",
    "\n"
   ]
  },
  {
   "cell_type": "code",
   "execution_count": 11,
   "metadata": {},
   "outputs": [
    {
     "name": "stdout",
     "output_type": "stream",
     "text": [
      "{'age': False, 'sex': False, 'bmi': True, 'treatment arm': False, 'chemotherapy cycles': True, 'histology': False, 'performance status': True, 'KRAS biomarker': False}\n"
     ]
    }
   ],
   "source": [
    "def refined_sanity_check(description, feature_values):\n",
    "    \"\"\"\n",
    "    Perform refined sanity checks by adjusting question phrasing and ensuring exact matches.\n",
    "\n",
    "    Args:\n",
    "        description (str): The natural language summary of the patient's data.\n",
    "        feature_values (dict): Dictionary of feature names and their expected textual representation.\n",
    "\n",
    "    Returns:\n",
    "        dict: A dictionary with each feature and a tuple indicating the presence and accuracy of the value.\n",
    "    \"\"\"\n",
    "    results = {}\n",
    "    questions = {\n",
    "        \"age\": \"How old is the patient?\",\n",
    "        \"sex\": \"What is the sex of the patient?\",\n",
    "        \"bmi\": \"What is the patient's BMI?\",\n",
    "        \"treatment arm\": \"What treatment is the patient receiving?\",\n",
    "        \"chemotherapy cycles\": \"How many chemotherapy cycles has the patient completed?\",\n",
    "        \"histology\": \"What is the histology of the cancer?\",\n",
    "        \"performance status\": \"What is the patient's performance status?\",\n",
    "        \"KRAS biomarker\": \"What is the KRAS biomarker status?\"\n",
    "    }\n",
    "    \n",
    "    for feature, question in questions.items():\n",
    "        expected_value = feature_values.get(feature)\n",
    "        answer = qa_pipeline({\n",
    "            'context': description,\n",
    "            'question': question\n",
    "        })\n",
    "        answer_text = answer['answer'].strip().lower()\n",
    "        \n",
    "        # Normalize expected value for better comparison\n",
    "        expected_norm = expected_value.lower().replace('\"', '').replace('-', ' ')\n",
    "        \n",
    "        is_correct = (answer_text == expected_norm)\n",
    "        results[feature] = is_correct\n",
    "\n",
    "    return results\n",
    "\n",
    "# Use the function on your example\n",
    "feature_values = {\n",
    "    \"age\": \"57\",\n",
    "    \"sex\": \"female\",\n",
    "    \"bmi\": \"20.97\",\n",
    "    \"treatment arm\": \"FOLFOX\",\n",
    "    \"chemotherapy cycles\": \"12\",\n",
    "    \"histology\": \"well differentiated\",\n",
    "    \"performance status\": \"fully active\",\n",
    "    \"KRAS biomarker\": \"wild-type\"\n",
    "}\n",
    "\n",
    "sanity_results = refined_sanity_check(df_161['summary'][0], feature_values)\n",
    "print(sanity_results)\n"
   ]
  },
  {
   "cell_type": "code",
   "execution_count": 10,
   "metadata": {},
   "outputs": [
    {
     "name": "stdout",
     "output_type": "stream",
     "text": [
      "race: other, sex: female, age: 57, bmi: 20.97, treatment arm: FOLFOX, chemotherapy cycles: 12, histology: well differentiated, performance status: fully active, KRAS biomarker: wild-type\n",
      "The patient is a 57-year-old female of a race categorized as \"other\" with a BMI of 20.97. She is undergoing treatment with the FOLFOX chemotherapy regimen and has completed 12 cycles. Her cancer histology is well-differentiated, and she has a fully active performance status. Additionally, her KRAS biomarker status is wild-type.\n"
     ]
    }
   ],
   "source": [
    "print(df_161['linearized'][0])\n",
    "print(df_161['summary'][0])"
   ]
  },
  {
   "cell_type": "code",
   "execution_count": 9,
   "metadata": {},
   "outputs": [
    {
     "name": "stdout",
     "output_type": "stream",
     "text": [
      "{'race': (False, False), 'sex': (False, False), 'age': (False, False), 'bmi': (False, False), 'treatment arm': (False, False), 'chemotherapy cycles': (False, False), 'histology': (False, False), 'performance status': (False, False), 'KRAS biomarker': (False, False)}\n"
     ]
    }
   ],
   "source": [
    "# Sample data from your DataFrame\n",
    "sample_description = df_161['summary'].iloc[0]\n",
    "sample_linearized_info = df_161['linearized'].iloc[0]\n",
    "\n",
    "# Assuming the QA pipeline is already defined and loaded\n",
    "sanity_results = general_sanity_check(sample_description, sample_linearized_info)\n",
    "print(sanity_results)"
   ]
  }
 ],
 "metadata": {
  "kernelspec": {
   "display_name": "PyTrial",
   "language": "python",
   "name": "python3"
  },
  "language_info": {
   "codemirror_mode": {
    "name": "ipython",
    "version": 3
   },
   "file_extension": ".py",
   "mimetype": "text/x-python",
   "name": "python",
   "nbconvert_exporter": "python",
   "pygments_lexer": "ipython3",
   "version": "3.10.14"
  }
 },
 "nbformat": 4,
 "nbformat_minor": 2
}
