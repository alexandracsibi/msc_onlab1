{
 "cells": [
  {
   "cell_type": "code",
   "execution_count": 1,
   "metadata": {},
   "outputs": [],
   "source": [
    "import pandas as pd\n",
    "import numpy as np"
   ]
  },
  {
   "cell_type": "code",
   "execution_count": 2,
   "metadata": {},
   "outputs": [],
   "source": [
    "df_colorectal_161 = pd.read_csv('/home/alexandra/PyTrial/data/Colorectal_161/Colorectal_161.csv')\n",
    "df_colorectal_201 = pd.read_csv('/home/alexandra/PyTrial/data/Colorectal_201/Colorectal_201.csv')\n",
    "df_colorectal_309 = pd.read_csv('/home/alexandra/PyTrial/data/Colorectal_309/Colorectal_309.csv')\n",
    "df_esophagael_213 = pd.read_csv('/home/alexandra/PyTrial/data/Esophagael_213/Esophagael_213.csv')\n",
    "df_lung_218 = pd.read_csv('/home/alexandra/PyTrial/data/Lung_218/Lung_218.csv')\n",
    "df_lung_261 = pd.read_csv('/home/alexandra/PyTrial/data/Lung_261/Lung_261.csv')"
   ]
  },
  {
   "cell_type": "code",
   "execution_count": null,
   "metadata": {},
   "outputs": [],
   "source": [
    "def load_features_from_file(file_path):\n",
    "    \"\"\"Load feature names from a file into a list.\"\"\"\n",
    "    with open(file_path, 'r') as file:\n",
    "        # Read lines, strip whitespace, and filter out any empty lines\n",
    "        features = [line.strip() for line in file if line.strip()]\n",
    "    return features\n",
    "\n",
    "binary_features161 = load_features_from_file('/home/alexandra/PyTrial/data/Colorectal_161/binary_feature.txt')\n",
    "numerical_features161 = load_features_from_file('/home/alexandra/PyTrial/data/Colorectal_161/numerical_feature.txt')\n",
    "\n",
    "binary_features201 = load_features_from_file('/home/alexandra/PyTrial/data/Colorectal_201/binary_feature.txt')\n",
    "numerical_features201 = load_features_from_file('/home/alexandra/PyTrial/data/Colorectal_201/numerical_feature.txt')\n",
    "\n",
    "binary_features309 = load_features_from_file('/home/alexandra/PyTrial/data/Colorectal_309/binary_feature.txt')\n",
    "numerical_features309 = load_features_from_file('/home/alexandra/PyTrial/data/Colorectal_309/numerical_feature.txt')\n",
    "\n",
    "binary_features213 = load_features_from_file('/home/alexandra/PyTrial/data/Esophagael_213/binary_feature.txt')\n",
    "numerical_features213 = load_features_from_file('/home/alexandra/PyTrial/data/Esophagael_213/numerical_feature.txt')\n",
    "\n",
    "binary_features218 = load_features_from_file('/home/alexandra/PyTrial/data/Lung_218/binary_feature.txt')\n",
    "numerical_features218 = load_features_from_file('/home/alexandra/PyTrial/data/Lung_218/numerical_feature.txt')\n",
    "\n",
    "binary_features261 = load_features_from_file('/home/alexandra/PyTrial/data/Lung_261/binary_feature.txt')\n",
    "numerical_features261 = load_features_from_file('/home/alexandra/PyTrial/data/Lung_261/numerical_feature.txt')\n"
   ]
  },
  {
   "cell_type": "code",
   "execution_count": 3,
   "metadata": {},
   "outputs": [],
   "source": [
    "def linearize(row, binary_features, numerical_features):\n",
    "    result = []\n",
    "    for col, val in row.items():\n",
    "        if col == \"id\" or col == 'target_label':\n",
    "            continue\n",
    "        if col in binary_features:\n",
    "            if val == \"Yes\":\n",
    "                result.append(f\"{col}: {val}\")\n",
    "        elif col in numerical_features:\n",
    "            result.append(f\"{col}: {val}\")\n",
    "        elif val =='indeterminate':\n",
    "            continue\n",
    "        else:\n",
    "            result.append(f\"{col}: {val}\")\n",
    "    return \", \".join(result)"
   ]
  },
  {
   "cell_type": "code",
   "execution_count": null,
   "metadata": {},
   "outputs": [],
   "source": [
    "df_colorectal_161['linearized'] = df_colorectal_161.apply(lambda row: linearize(row, binary_features161, numerical_features161), axis=1)\n",
    "df_colorectal_201['linearized'] = df_colorectal_201.apply(lambda row: linearize(row, binary_features201, numerical_features201), axis=1)\n",
    "df_colorectal_309['linearized'] = df_colorectal_309.apply(lambda row: linearize(row, binary_features309, numerical_features309), axis=1)\n",
    "df_esophagael_213['linearized'] = df_esophagael_213.apply(lambda row: linearize(row, binary_features213, numerical_features213), axis=1)\n",
    "df_lung_218['linearized'] = df_lung_218.apply(lambda row: linearize(row, binary_features218, numerical_features218), axis=1)\n",
    "df_lung_261['linearized'] = df_lung_261.apply(lambda row: linearize(row, binary_features261, numerical_features261), axis=1)"
   ]
  },
  {
   "cell_type": "code",
   "execution_count": null,
   "metadata": {},
   "outputs": [],
   "source": [
    "prefix = \"Patient profile:\"\n",
    "suffix = \" Generate a concise medical summary.\"\n",
    "\n",
    "def create_prompt(linearized_data):\n",
    "    return f\"{prefix}{linearized_data}{suffix}\""
   ]
  },
  {
   "cell_type": "code",
   "execution_count": null,
   "metadata": {},
   "outputs": [],
   "source": [
    "import pandas as pd\n",
    "import os\n",
    "import openai\n",
    "\n",
    "# Load the DataFrame (assuming df_colorectal_161 is already loaded and prepared)\n",
    "data = df_colorectal_161['linearized'].tolist()\n",
    "\n",
    "# Setup OpenAI client\n",
    "client = openai.OpenAI(\n",
    "    api_key=os.environ.get(\"OPENAI_API_KEY\"),\n",
    ")\n",
    "\n",
    "# Prepare to collect responses\n",
    "responses = []\n",
    "\n",
    "# Iterate through each data entry\n",
    "for entry in data:\n",
    "    prompt = create_prompt(entry)  # Make sure create_prompt function constructs the correct prompt\n",
    "\n",
    "    # Use a try-except block for robust error handling\n",
    "    try:\n",
    "        # Generate the completion using the chat model\n",
    "        response = client.chat.completions.create(\n",
    "            model=\"gpt-3.5-turbo\",\n",
    "            messages=[\n",
    "                {\"role\": \"system\", \"content\": \"You are a helpful assistant.\"},\n",
    "                {\"role\": \"user\", \"content\": prompt}\n",
    "            ],\n",
    "            max_tokens=120,\n",
    "            temperature=0.25\n",
    "        )\n",
    "        # Append the generated text to the responses list\n",
    "        responses.append(response['choices'][0]['message']['content'])\n",
    "    except Exception as e:\n",
    "        print(f\"Error processing data: {e}\")\n",
    "        # Optionally, append a placeholder or an error message\n",
    "        responses.append(\"Error generating response\")\n",
    "\n",
    "# Add the responses as a new column to your DataFrame\n",
    "df_colorectal_161['summary'] = responses\n",
    "\n",
    "# Save the DataFrame with the summaries to a new CSV file\n",
    "df_colorectal_161.to_csv('/home/alexandra/Downloads/halal/gane.csv', index=False)\n",
    "\n",
    "print(\"All summaries have been generated and saved.\")\n"
   ]
  }
 ],
 "metadata": {
  "kernelspec": {
   "display_name": "PyTrial",
   "language": "python",
   "name": "python3"
  },
  "language_info": {
   "codemirror_mode": {
    "name": "ipython",
    "version": 3
   },
   "file_extension": ".py",
   "mimetype": "text/x-python",
   "name": "python",
   "nbconvert_exporter": "python",
   "pygments_lexer": "ipython3",
   "version": "3.10.14"
  }
 },
 "nbformat": 4,
 "nbformat_minor": 2
}
